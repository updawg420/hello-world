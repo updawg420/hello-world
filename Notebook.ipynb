{
 "cells": [
  {
   "metadata": {},
   "cell_type": "markdown",
   "source": [
    "# <h1> U.S Post College Salary Prediction Model <h1>\n",
    "# The Salary Dataset contains 763 rows and 6 columns with the following data:\n",
    "# 1. Rank\n",
    "# 2. Major\n",
    "# 3. Degree Type\n",
    "# 4. Early Career Pay\n",
    "# 5. Mid-Career Pay\n",
    "# 6. High Meaning Percentage"
   ],
   "id": "1e9bc251d4b6e461"
  },
  {
   "metadata": {
    "collapsed": true
   },
   "cell_type": "code",
   "source": [
    "# Import Packages/Libraries\n",
    "import pandas as pd                 # Data Processing, CSV file I/O (e.g. pd.read_csv)\n",
    "import numpy as np                  # Linear Algebra\n",
    "import matplotlib.pyplot as plt     # Data Visualization\n",
    "import seaborn as sns               # Data Visualization"
   ],
   "id": "initial_id",
   "outputs": [],
   "execution_count": null
  },
  {
   "metadata": {},
   "cell_type": "markdown",
   "source": "Read Data File / CSV File:",
   "id": "fec55984ddde68e0"
  },
  {
   "metadata": {
    "ExecuteTime": {
     "end_time": "2025-04-07T00:12:27.188739Z",
     "start_time": "2025-04-07T00:12:27.178935Z"
    }
   },
   "cell_type": "code",
   "source": [
    "import pandas as pd\n",
    "PCollege_Sal_Data = pd.read_csv('final-post-college-salaries.csv')\n",
    "PCollege_Sal_Data"
   ],
   "id": "dd9104ecdd969692",
   "outputs": [
    {
     "data": {
      "text/plain": [
       "     Rank                                             Major Degree Type  \\\n",
       "0       1                             Petroleum Engineering   Bachelors   \n",
       "1       2      Operations Research & Industrial Engineering   Bachelors   \n",
       "2       3  Electrical Engineering & Computer Science (EECS)   Bachelors   \n",
       "3       4                                Interaction Design   Bachelors   \n",
       "4       5                                  Building Science   Bachelors   \n",
       "..    ...                                               ...         ...   \n",
       "758   759                                    Equine Studies   Bachelors   \n",
       "759   760                          Nonprofit Administration   Bachelors   \n",
       "760   761                             Addictions Counseling   Bachelors   \n",
       "761   762                         Early Childhood Education   Bachelors   \n",
       "762   763                                     Metalsmithing   Bachelors   \n",
       "\n",
       "    Early Career Pay Mid-Career Pay % High Meaning  \n",
       "0            $98,100       $212,100            60%  \n",
       "1           $101,200       $202,600            21%  \n",
       "2           $128,500       $192,300            45%  \n",
       "3            $77,400       $178,800            55%  \n",
       "4            $71,100       $172,400            46%  \n",
       "..               ...            ...            ...  \n",
       "758          $42,300        $54,100            50%  \n",
       "759          $43,900        $53,700            73%  \n",
       "760          $47,300        $52,400            78%  \n",
       "761          $43,400        $52,200            78%  \n",
       "762          $45,900        $46,600            36%  \n",
       "\n",
       "[763 rows x 6 columns]"
      ],
      "text/html": [
       "<div>\n",
       "<style scoped>\n",
       "    .dataframe tbody tr th:only-of-type {\n",
       "        vertical-align: middle;\n",
       "    }\n",
       "\n",
       "    .dataframe tbody tr th {\n",
       "        vertical-align: top;\n",
       "    }\n",
       "\n",
       "    .dataframe thead th {\n",
       "        text-align: right;\n",
       "    }\n",
       "</style>\n",
       "<table border=\"1\" class=\"dataframe\">\n",
       "  <thead>\n",
       "    <tr style=\"text-align: right;\">\n",
       "      <th></th>\n",
       "      <th>Rank</th>\n",
       "      <th>Major</th>\n",
       "      <th>Degree Type</th>\n",
       "      <th>Early Career Pay</th>\n",
       "      <th>Mid-Career Pay</th>\n",
       "      <th>% High Meaning</th>\n",
       "    </tr>\n",
       "  </thead>\n",
       "  <tbody>\n",
       "    <tr>\n",
       "      <th>0</th>\n",
       "      <td>1</td>\n",
       "      <td>Petroleum Engineering</td>\n",
       "      <td>Bachelors</td>\n",
       "      <td>$98,100</td>\n",
       "      <td>$212,100</td>\n",
       "      <td>60%</td>\n",
       "    </tr>\n",
       "    <tr>\n",
       "      <th>1</th>\n",
       "      <td>2</td>\n",
       "      <td>Operations Research &amp; Industrial Engineering</td>\n",
       "      <td>Bachelors</td>\n",
       "      <td>$101,200</td>\n",
       "      <td>$202,600</td>\n",
       "      <td>21%</td>\n",
       "    </tr>\n",
       "    <tr>\n",
       "      <th>2</th>\n",
       "      <td>3</td>\n",
       "      <td>Electrical Engineering &amp; Computer Science (EECS)</td>\n",
       "      <td>Bachelors</td>\n",
       "      <td>$128,500</td>\n",
       "      <td>$192,300</td>\n",
       "      <td>45%</td>\n",
       "    </tr>\n",
       "    <tr>\n",
       "      <th>3</th>\n",
       "      <td>4</td>\n",
       "      <td>Interaction Design</td>\n",
       "      <td>Bachelors</td>\n",
       "      <td>$77,400</td>\n",
       "      <td>$178,800</td>\n",
       "      <td>55%</td>\n",
       "    </tr>\n",
       "    <tr>\n",
       "      <th>4</th>\n",
       "      <td>5</td>\n",
       "      <td>Building Science</td>\n",
       "      <td>Bachelors</td>\n",
       "      <td>$71,100</td>\n",
       "      <td>$172,400</td>\n",
       "      <td>46%</td>\n",
       "    </tr>\n",
       "    <tr>\n",
       "      <th>...</th>\n",
       "      <td>...</td>\n",
       "      <td>...</td>\n",
       "      <td>...</td>\n",
       "      <td>...</td>\n",
       "      <td>...</td>\n",
       "      <td>...</td>\n",
       "    </tr>\n",
       "    <tr>\n",
       "      <th>758</th>\n",
       "      <td>759</td>\n",
       "      <td>Equine Studies</td>\n",
       "      <td>Bachelors</td>\n",
       "      <td>$42,300</td>\n",
       "      <td>$54,100</td>\n",
       "      <td>50%</td>\n",
       "    </tr>\n",
       "    <tr>\n",
       "      <th>759</th>\n",
       "      <td>760</td>\n",
       "      <td>Nonprofit Administration</td>\n",
       "      <td>Bachelors</td>\n",
       "      <td>$43,900</td>\n",
       "      <td>$53,700</td>\n",
       "      <td>73%</td>\n",
       "    </tr>\n",
       "    <tr>\n",
       "      <th>760</th>\n",
       "      <td>761</td>\n",
       "      <td>Addictions Counseling</td>\n",
       "      <td>Bachelors</td>\n",
       "      <td>$47,300</td>\n",
       "      <td>$52,400</td>\n",
       "      <td>78%</td>\n",
       "    </tr>\n",
       "    <tr>\n",
       "      <th>761</th>\n",
       "      <td>762</td>\n",
       "      <td>Early Childhood Education</td>\n",
       "      <td>Bachelors</td>\n",
       "      <td>$43,400</td>\n",
       "      <td>$52,200</td>\n",
       "      <td>78%</td>\n",
       "    </tr>\n",
       "    <tr>\n",
       "      <th>762</th>\n",
       "      <td>763</td>\n",
       "      <td>Metalsmithing</td>\n",
       "      <td>Bachelors</td>\n",
       "      <td>$45,900</td>\n",
       "      <td>$46,600</td>\n",
       "      <td>36%</td>\n",
       "    </tr>\n",
       "  </tbody>\n",
       "</table>\n",
       "<p>763 rows × 6 columns</p>\n",
       "</div>"
      ]
     },
     "execution_count": 17,
     "metadata": {},
     "output_type": "execute_result"
    }
   ],
   "execution_count": 17
  },
  {
   "metadata": {
    "ExecuteTime": {
     "end_time": "2025-04-07T00:21:13.166651Z",
     "start_time": "2025-04-07T00:21:13.160699Z"
    }
   },
   "cell_type": "code",
   "source": [
    "# List of Columns, Data Types, and Number of Non-Null Values\n",
    "PCollege_Sal_Data.info()"
   ],
   "id": "bc73ba3e5f103e",
   "outputs": [
    {
     "name": "stdout",
     "output_type": "stream",
     "text": [
      "<class 'pandas.core.frame.DataFrame'>\n",
      "RangeIndex: 763 entries, 0 to 762\n",
      "Data columns (total 6 columns):\n",
      " #   Column            Non-Null Count  Dtype \n",
      "---  ------            --------------  ----- \n",
      " 0   Rank              763 non-null    int64 \n",
      " 1   Major             763 non-null    object\n",
      " 2   Degree Type       763 non-null    object\n",
      " 3   Early Career Pay  763 non-null    object\n",
      " 4   Mid-Career Pay    763 non-null    object\n",
      " 5   % High Meaning    763 non-null    object\n",
      "dtypes: int64(1), object(5)\n",
      "memory usage: 35.9+ KB\n"
     ]
    }
   ],
   "execution_count": 18
  },
  {
   "metadata": {},
   "cell_type": "markdown",
   "source": "Data Cleaning and Preprocessing:",
   "id": "dea4ad1c9f24de74"
  },
  {
   "metadata": {
    "ExecuteTime": {
     "end_time": "2025-04-07T00:52:58.841427Z",
     "start_time": "2025-04-07T00:52:58.831112Z"
    }
   },
   "cell_type": "code",
   "source": [
    "# Since the dataset contains string values, we will convert them to numerical values for easier computation.\n",
    "# We'll be cleaning Early Career Pay, Mid-Career Pay, and High Meaning Percentage columns.\n",
    "\n",
    "# Cleaning $ and commas\n",
    "def clean_column(column):\n",
    "    column = column.str.replace('$', '', regex=False)\n",
    "    column = column.str.replace(',', '', regex=False)\n",
    "    return column\n",
    "\n",
    "PCollege_Sal_Data['Early Career Pay'] = clean_column(PCollege_Sal_Data['Early Career Pay'])\n",
    "PCollege_Sal_Data['Mid-Career Pay'] = clean_column(PCollege_Sal_Data['Mid-Career Pay'])\n",
    "PCollege_Sal_Data['% High Meaning'] = clean_column(PCollege_Sal_Data['% High Meaning'])\n",
    "\n",
    "PCollege_Sal_Data.info()"
   ],
   "id": "e3e0a66a6474112c",
   "outputs": [
    {
     "name": "stdout",
     "output_type": "stream",
     "text": [
      "<class 'pandas.core.frame.DataFrame'>\n",
      "RangeIndex: 763 entries, 0 to 762\n",
      "Data columns (total 6 columns):\n",
      " #   Column            Non-Null Count  Dtype \n",
      "---  ------            --------------  ----- \n",
      " 0   Rank              763 non-null    int64 \n",
      " 1   Major             763 non-null    object\n",
      " 2   Degree Type       763 non-null    object\n",
      " 3   Early Career Pay  763 non-null    object\n",
      " 4   Mid-Career Pay    763 non-null    object\n",
      " 5   % High Meaning    763 non-null    object\n",
      "dtypes: int64(1), object(5)\n",
      "memory usage: 35.9+ KB\n"
     ]
    }
   ],
   "execution_count": 19
  },
  {
   "metadata": {},
   "cell_type": "markdown",
   "source": "Understanding the Data:",
   "id": "86db658d8751871a"
  },
  {
   "metadata": {},
   "cell_type": "code",
   "outputs": [],
   "execution_count": null,
   "source": [
    "# Number of Rows and Columns\n",
    "PCollege_Sal_Data.shape"
   ],
   "id": "11d8a106b2ce82b2"
  },
  {
   "metadata": {},
   "cell_type": "code",
   "source": "PCollege_Sal_Data.describe()",
   "id": "c9219ff1cac048e9",
   "outputs": [],
   "execution_count": null
  },
  {
   "metadata": {},
   "cell_type": "code",
   "source": [
    "# Check for Missing(Null) Values, if any. With no null values, nothing will be dropped.\n",
    "PCollege_Sal_Data.isnull().sum()"
   ],
   "id": "870b9d30df95136e",
   "outputs": [],
   "execution_count": null
  },
  {
   "metadata": {},
   "cell_type": "code",
   "source": [
    "# Degree Type contains only one unique value within our dataset which wouldn't be necessary to keep for our analysis. So it will be dropped.\n",
    "PCollege_Sal_Data['Degree Type'].value_counts()"
   ],
   "id": "1056d624d1f7a689",
   "outputs": [],
   "execution_count": null
  }
 ],
 "metadata": {
  "kernelspec": {
   "display_name": "Python 3",
   "language": "python",
   "name": "python3"
  },
  "language_info": {
   "codemirror_mode": {
    "name": "ipython",
    "version": 2
   },
   "file_extension": ".py",
   "mimetype": "text/x-python",
   "name": "python",
   "nbconvert_exporter": "python",
   "pygments_lexer": "ipython2",
   "version": "2.7.6"
  }
 },
 "nbformat": 4,
 "nbformat_minor": 5
}
