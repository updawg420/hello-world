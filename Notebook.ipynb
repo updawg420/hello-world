{
 "cells": [
  {
   "metadata": {},
   "cell_type": "markdown",
   "source": "Import Packages/Libraries",
   "id": "1e9bc251d4b6e461"
  },
  {
   "metadata": {
    "collapsed": true
   },
   "cell_type": "code",
   "outputs": [],
   "execution_count": null,
   "source": [
    "import pandas as pd                 # Data Processing, CSV file I/O (e.g. pd.read_csv)\n",
    "import numpy as np                  # Linear Algebra\n",
    "import matplotlib.pyplot as plt     # Data Visualization\n",
    "import seaborn as sns               # Data Visualization"
   ],
   "id": "initial_id"
  },
  {
   "metadata": {},
   "cell_type": "markdown",
   "source": "Read Data File / CSV File:",
   "id": "fec55984ddde68e0"
  },
  {
   "metadata": {
    "ExecuteTime": {
     "end_time": "2025-03-25T13:01:44.050575Z",
     "start_time": "2025-03-25T13:01:44.021573Z"
    }
   },
   "cell_type": "code",
   "source": [
    "import pandas as pd\n",
    "PCollege_Sal_Data = pd.read_csv('final-post-college-salaries.csv')\n",
    "PCollege_Sal_Data.head()"
   ],
   "id": "c89606c80bb1c8a6",
   "outputs": [
    {
     "data": {
      "text/plain": [
       "   Rank                                             Major Degree Type  \\\n",
       "0     1                             Petroleum Engineering   Bachelors   \n",
       "1     2      Operations Research & Industrial Engineering   Bachelors   \n",
       "2     3  Electrical Engineering & Computer Science (EECS)   Bachelors   \n",
       "3     4                                Interaction Design   Bachelors   \n",
       "4     5                                  Building Science   Bachelors   \n",
       "\n",
       "  Early Career Pay Mid-Career Pay % High Meaning  \n",
       "0          $98,100       $212,100            60%  \n",
       "1         $101,200       $202,600            21%  \n",
       "2         $128,500       $192,300            45%  \n",
       "3          $77,400       $178,800            55%  \n",
       "4          $71,100       $172,400            46%  "
      ],
      "text/html": [
       "<div>\n",
       "<style scoped>\n",
       "    .dataframe tbody tr th:only-of-type {\n",
       "        vertical-align: middle;\n",
       "    }\n",
       "\n",
       "    .dataframe tbody tr th {\n",
       "        vertical-align: top;\n",
       "    }\n",
       "\n",
       "    .dataframe thead th {\n",
       "        text-align: right;\n",
       "    }\n",
       "</style>\n",
       "<table border=\"1\" class=\"dataframe\">\n",
       "  <thead>\n",
       "    <tr style=\"text-align: right;\">\n",
       "      <th></th>\n",
       "      <th>Rank</th>\n",
       "      <th>Major</th>\n",
       "      <th>Degree Type</th>\n",
       "      <th>Early Career Pay</th>\n",
       "      <th>Mid-Career Pay</th>\n",
       "      <th>% High Meaning</th>\n",
       "    </tr>\n",
       "  </thead>\n",
       "  <tbody>\n",
       "    <tr>\n",
       "      <th>0</th>\n",
       "      <td>1</td>\n",
       "      <td>Petroleum Engineering</td>\n",
       "      <td>Bachelors</td>\n",
       "      <td>$98,100</td>\n",
       "      <td>$212,100</td>\n",
       "      <td>60%</td>\n",
       "    </tr>\n",
       "    <tr>\n",
       "      <th>1</th>\n",
       "      <td>2</td>\n",
       "      <td>Operations Research &amp; Industrial Engineering</td>\n",
       "      <td>Bachelors</td>\n",
       "      <td>$101,200</td>\n",
       "      <td>$202,600</td>\n",
       "      <td>21%</td>\n",
       "    </tr>\n",
       "    <tr>\n",
       "      <th>2</th>\n",
       "      <td>3</td>\n",
       "      <td>Electrical Engineering &amp; Computer Science (EECS)</td>\n",
       "      <td>Bachelors</td>\n",
       "      <td>$128,500</td>\n",
       "      <td>$192,300</td>\n",
       "      <td>45%</td>\n",
       "    </tr>\n",
       "    <tr>\n",
       "      <th>3</th>\n",
       "      <td>4</td>\n",
       "      <td>Interaction Design</td>\n",
       "      <td>Bachelors</td>\n",
       "      <td>$77,400</td>\n",
       "      <td>$178,800</td>\n",
       "      <td>55%</td>\n",
       "    </tr>\n",
       "    <tr>\n",
       "      <th>4</th>\n",
       "      <td>5</td>\n",
       "      <td>Building Science</td>\n",
       "      <td>Bachelors</td>\n",
       "      <td>$71,100</td>\n",
       "      <td>$172,400</td>\n",
       "      <td>46%</td>\n",
       "    </tr>\n",
       "  </tbody>\n",
       "</table>\n",
       "</div>"
      ]
     },
     "execution_count": 9,
     "metadata": {},
     "output_type": "execute_result"
    }
   ],
   "execution_count": 9
  },
  {
   "metadata": {},
   "cell_type": "markdown",
   "source": "Number of Rows and Columns:",
   "id": "86db658d8751871a"
  },
  {
   "metadata": {
    "ExecuteTime": {
     "end_time": "2025-03-25T13:02:44.933122Z",
     "start_time": "2025-03-25T13:02:44.927896Z"
    }
   },
   "cell_type": "code",
   "source": "PCollege_Sal_Data.shape",
   "id": "ee1da34894e43591",
   "outputs": [
    {
     "data": {
      "text/plain": [
       "(763, 6)"
      ]
     },
     "execution_count": 10,
     "metadata": {},
     "output_type": "execute_result"
    }
   ],
   "execution_count": 10
  }
 ],
 "metadata": {
  "kernelspec": {
   "display_name": "Python 3",
   "language": "python",
   "name": "python3"
  },
  "language_info": {
   "codemirror_mode": {
    "name": "ipython",
    "version": 2
   },
   "file_extension": ".py",
   "mimetype": "text/x-python",
   "name": "python",
   "nbconvert_exporter": "python",
   "pygments_lexer": "ipython2",
   "version": "2.7.6"
  }
 },
 "nbformat": 4,
 "nbformat_minor": 5
}
